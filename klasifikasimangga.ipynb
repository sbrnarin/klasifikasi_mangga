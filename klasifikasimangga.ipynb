{
 "cells": [
  {
   "cell_type": "code",
   "execution_count": 4,
   "id": "0ae5e85a-f6f9-4fdb-96e3-270e4a062358",
   "metadata": {},
   "outputs": [
    {
     "data": {
      "text/html": [
       "<div>\n",
       "<style scoped>\n",
       "    .dataframe tbody tr th:only-of-type {\n",
       "        vertical-align: middle;\n",
       "    }\n",
       "\n",
       "    .dataframe tbody tr th {\n",
       "        vertical-align: top;\n",
       "    }\n",
       "\n",
       "    .dataframe thead th {\n",
       "        text-align: right;\n",
       "    }\n",
       "</style>\n",
       "<table border=\"1\" class=\"dataframe\">\n",
       "  <thead>\n",
       "    <tr style=\"text-align: right;\">\n",
       "      <th></th>\n",
       "      <th>diameter</th>\n",
       "      <th>berat</th>\n",
       "      <th>tebal_kulit</th>\n",
       "      <th>kadar_gula</th>\n",
       "      <th>asal_daerah</th>\n",
       "      <th>warna</th>\n",
       "      <th>musim_panen</th>\n",
       "      <th>kualitas</th>\n",
       "    </tr>\n",
       "  </thead>\n",
       "  <tbody>\n",
       "    <tr>\n",
       "      <th>0</th>\n",
       "      <td>7.0</td>\n",
       "      <td>175.5</td>\n",
       "      <td>0.40</td>\n",
       "      <td>10.6</td>\n",
       "      <td>Bali</td>\n",
       "      <td>Hijau</td>\n",
       "      <td>Hujan</td>\n",
       "      <td>Bagus</td>\n",
       "    </tr>\n",
       "    <tr>\n",
       "      <th>1</th>\n",
       "      <td>7.2</td>\n",
       "      <td>165.8</td>\n",
       "      <td>0.62</td>\n",
       "      <td>16.6</td>\n",
       "      <td>Bali</td>\n",
       "      <td>Jingga</td>\n",
       "      <td>Hujan</td>\n",
       "      <td>Sedang</td>\n",
       "    </tr>\n",
       "    <tr>\n",
       "      <th>2</th>\n",
       "      <td>9.0</td>\n",
       "      <td>222.3</td>\n",
       "      <td>0.69</td>\n",
       "      <td>9.5</td>\n",
       "      <td>Bali</td>\n",
       "      <td>Kemerahan</td>\n",
       "      <td>Hujan</td>\n",
       "      <td>Bagus</td>\n",
       "    </tr>\n",
       "    <tr>\n",
       "      <th>3</th>\n",
       "      <td>7.4</td>\n",
       "      <td>295.9</td>\n",
       "      <td>0.79</td>\n",
       "      <td>16.5</td>\n",
       "      <td>Jawa Tengah</td>\n",
       "      <td>Kemerahan</td>\n",
       "      <td>Hujan</td>\n",
       "      <td>Sedang</td>\n",
       "    </tr>\n",
       "    <tr>\n",
       "      <th>4</th>\n",
       "      <td>10.5</td>\n",
       "      <td>191.6</td>\n",
       "      <td>0.65</td>\n",
       "      <td>14.1</td>\n",
       "      <td>Jawa Tengah</td>\n",
       "      <td>Kemerahan</td>\n",
       "      <td>Kemarau</td>\n",
       "      <td>Bagus</td>\n",
       "    </tr>\n",
       "    <tr>\n",
       "      <th>...</th>\n",
       "      <td>...</td>\n",
       "      <td>...</td>\n",
       "      <td>...</td>\n",
       "      <td>...</td>\n",
       "      <td>...</td>\n",
       "      <td>...</td>\n",
       "      <td>...</td>\n",
       "      <td>...</td>\n",
       "    </tr>\n",
       "    <tr>\n",
       "      <th>95</th>\n",
       "      <td>9.2</td>\n",
       "      <td>583.7</td>\n",
       "      <td>0.62</td>\n",
       "      <td>13.6</td>\n",
       "      <td>Jawa Barat</td>\n",
       "      <td>Hijau</td>\n",
       "      <td>Kemarau</td>\n",
       "      <td>Sedang</td>\n",
       "    </tr>\n",
       "    <tr>\n",
       "      <th>96</th>\n",
       "      <td>11.9</td>\n",
       "      <td>217.3</td>\n",
       "      <td>0.74</td>\n",
       "      <td>17.2</td>\n",
       "      <td>Jawa Tengah</td>\n",
       "      <td>Kemerahan</td>\n",
       "      <td>Hujan</td>\n",
       "      <td>Sedang</td>\n",
       "    </tr>\n",
       "    <tr>\n",
       "      <th>97</th>\n",
       "      <td>7.2</td>\n",
       "      <td>502.1</td>\n",
       "      <td>0.56</td>\n",
       "      <td>8.5</td>\n",
       "      <td>Bali</td>\n",
       "      <td>Jingga</td>\n",
       "      <td>Hujan</td>\n",
       "      <td>Jelek</td>\n",
       "    </tr>\n",
       "    <tr>\n",
       "      <th>98</th>\n",
       "      <td>8.2</td>\n",
       "      <td>288.7</td>\n",
       "      <td>0.52</td>\n",
       "      <td>14.8</td>\n",
       "      <td>Jawa Barat</td>\n",
       "      <td>Kuning</td>\n",
       "      <td>Hujan</td>\n",
       "      <td>Sedang</td>\n",
       "    </tr>\n",
       "    <tr>\n",
       "      <th>99</th>\n",
       "      <td>6.6</td>\n",
       "      <td>427.5</td>\n",
       "      <td>0.59</td>\n",
       "      <td>19.4</td>\n",
       "      <td>Jawa Barat</td>\n",
       "      <td>Jingga</td>\n",
       "      <td>Kemarau</td>\n",
       "      <td>Jelek</td>\n",
       "    </tr>\n",
       "  </tbody>\n",
       "</table>\n",
       "<p>100 rows × 8 columns</p>\n",
       "</div>"
      ],
      "text/plain": [
       "    diameter  berat  tebal_kulit  kadar_gula  asal_daerah      warna  \\\n",
       "0        7.0  175.5         0.40        10.6         Bali      Hijau   \n",
       "1        7.2  165.8         0.62        16.6         Bali     Jingga   \n",
       "2        9.0  222.3         0.69         9.5         Bali  Kemerahan   \n",
       "3        7.4  295.9         0.79        16.5  Jawa Tengah  Kemerahan   \n",
       "4       10.5  191.6         0.65        14.1  Jawa Tengah  Kemerahan   \n",
       "..       ...    ...          ...         ...          ...        ...   \n",
       "95       9.2  583.7         0.62        13.6   Jawa Barat      Hijau   \n",
       "96      11.9  217.3         0.74        17.2  Jawa Tengah  Kemerahan   \n",
       "97       7.2  502.1         0.56         8.5         Bali     Jingga   \n",
       "98       8.2  288.7         0.52        14.8   Jawa Barat     Kuning   \n",
       "99       6.6  427.5         0.59        19.4   Jawa Barat     Jingga   \n",
       "\n",
       "   musim_panen kualitas  \n",
       "0        Hujan    Bagus  \n",
       "1        Hujan   Sedang  \n",
       "2        Hujan    Bagus  \n",
       "3        Hujan   Sedang  \n",
       "4      Kemarau    Bagus  \n",
       "..         ...      ...  \n",
       "95     Kemarau   Sedang  \n",
       "96       Hujan   Sedang  \n",
       "97       Hujan    Jelek  \n",
       "98       Hujan   Sedang  \n",
       "99     Kemarau    Jelek  \n",
       "\n",
       "[100 rows x 8 columns]"
      ]
     },
     "execution_count": 4,
     "metadata": {},
     "output_type": "execute_result"
    }
   ],
   "source": [
    "import pandas as pd\n",
    "df = pd.read_csv(\"dataset_mangga.csv\")\n",
    "\n",
    "df"
   ]
  },
  {
   "cell_type": "code",
   "execution_count": 5,
   "id": "0761f5e6-7767-41e0-8290-9d683605d930",
   "metadata": {},
   "outputs": [
    {
     "data": {
      "text/plain": [
       "(100, 8)"
      ]
     },
     "execution_count": 5,
     "metadata": {},
     "output_type": "execute_result"
    }
   ],
   "source": [
    "df.shape"
   ]
  },
  {
   "cell_type": "code",
   "execution_count": 6,
   "id": "7bc1f9d0-20fa-4cfc-9ac6-d8364f6d8310",
   "metadata": {},
   "outputs": [
    {
     "data": {
      "text/plain": [
       "Index(['diameter', 'berat', 'tebal_kulit', 'kadar_gula', 'asal_daerah',\n",
       "       'warna', 'musim_panen', 'kualitas'],\n",
       "      dtype='object')"
      ]
     },
     "execution_count": 6,
     "metadata": {},
     "output_type": "execute_result"
    }
   ],
   "source": [
    "df.columns"
   ]
  },
  {
   "cell_type": "code",
   "execution_count": 7,
   "id": "aa030534-c860-427a-9df4-efb366eb5f01",
   "metadata": {},
   "outputs": [
    {
     "name": "stdout",
     "output_type": "stream",
     "text": [
      "<class 'pandas.core.frame.DataFrame'>\n",
      "RangeIndex: 100 entries, 0 to 99\n",
      "Data columns (total 8 columns):\n",
      " #   Column       Non-Null Count  Dtype  \n",
      "---  ------       --------------  -----  \n",
      " 0   diameter     100 non-null    float64\n",
      " 1   berat        100 non-null    float64\n",
      " 2   tebal_kulit  100 non-null    float64\n",
      " 3   kadar_gula   100 non-null    float64\n",
      " 4   asal_daerah  100 non-null    object \n",
      " 5   warna        100 non-null    object \n",
      " 6   musim_panen  100 non-null    object \n",
      " 7   kualitas     100 non-null    object \n",
      "dtypes: float64(4), object(4)\n",
      "memory usage: 6.4+ KB\n"
     ]
    }
   ],
   "source": [
    "df.info()"
   ]
  },
  {
   "cell_type": "code",
   "execution_count": 8,
   "id": "215c4429-b003-4a18-a8f9-11092b864d01",
   "metadata": {},
   "outputs": [
    {
     "data": {
      "text/html": [
       "<div>\n",
       "<style scoped>\n",
       "    .dataframe tbody tr th:only-of-type {\n",
       "        vertical-align: middle;\n",
       "    }\n",
       "\n",
       "    .dataframe tbody tr th {\n",
       "        vertical-align: top;\n",
       "    }\n",
       "\n",
       "    .dataframe thead th {\n",
       "        text-align: right;\n",
       "    }\n",
       "</style>\n",
       "<table border=\"1\" class=\"dataframe\">\n",
       "  <thead>\n",
       "    <tr style=\"text-align: right;\">\n",
       "      <th></th>\n",
       "      <th>diameter</th>\n",
       "      <th>berat</th>\n",
       "      <th>tebal_kulit</th>\n",
       "      <th>kadar_gula</th>\n",
       "    </tr>\n",
       "  </thead>\n",
       "  <tbody>\n",
       "    <tr>\n",
       "      <th>count</th>\n",
       "      <td>100.000000</td>\n",
       "      <td>100.000000</td>\n",
       "      <td>100.000000</td>\n",
       "      <td>100.000000</td>\n",
       "    </tr>\n",
       "    <tr>\n",
       "      <th>mean</th>\n",
       "      <td>8.490000</td>\n",
       "      <td>366.284000</td>\n",
       "      <td>0.568800</td>\n",
       "      <td>13.190000</td>\n",
       "    </tr>\n",
       "    <tr>\n",
       "      <th>std</th>\n",
       "      <td>1.985732</td>\n",
       "      <td>135.834568</td>\n",
       "      <td>0.149661</td>\n",
       "      <td>3.612227</td>\n",
       "    </tr>\n",
       "    <tr>\n",
       "      <th>min</th>\n",
       "      <td>5.100000</td>\n",
       "      <td>153.800000</td>\n",
       "      <td>0.300000</td>\n",
       "      <td>8.000000</td>\n",
       "    </tr>\n",
       "    <tr>\n",
       "      <th>25%</th>\n",
       "      <td>7.000000</td>\n",
       "      <td>244.775000</td>\n",
       "      <td>0.437500</td>\n",
       "      <td>10.000000</td>\n",
       "    </tr>\n",
       "    <tr>\n",
       "      <th>50%</th>\n",
       "      <td>8.250000</td>\n",
       "      <td>348.900000</td>\n",
       "      <td>0.595000</td>\n",
       "      <td>12.800000</td>\n",
       "    </tr>\n",
       "    <tr>\n",
       "      <th>75%</th>\n",
       "      <td>10.025000</td>\n",
       "      <td>492.125000</td>\n",
       "      <td>0.702500</td>\n",
       "      <td>16.525000</td>\n",
       "    </tr>\n",
       "    <tr>\n",
       "      <th>max</th>\n",
       "      <td>11.900000</td>\n",
       "      <td>596.200000</td>\n",
       "      <td>0.790000</td>\n",
       "      <td>19.600000</td>\n",
       "    </tr>\n",
       "  </tbody>\n",
       "</table>\n",
       "</div>"
      ],
      "text/plain": [
       "         diameter       berat  tebal_kulit  kadar_gula\n",
       "count  100.000000  100.000000   100.000000  100.000000\n",
       "mean     8.490000  366.284000     0.568800   13.190000\n",
       "std      1.985732  135.834568     0.149661    3.612227\n",
       "min      5.100000  153.800000     0.300000    8.000000\n",
       "25%      7.000000  244.775000     0.437500   10.000000\n",
       "50%      8.250000  348.900000     0.595000   12.800000\n",
       "75%     10.025000  492.125000     0.702500   16.525000\n",
       "max     11.900000  596.200000     0.790000   19.600000"
      ]
     },
     "execution_count": 8,
     "metadata": {},
     "output_type": "execute_result"
    }
   ],
   "source": [
    "df.describe()"
   ]
  },
  {
   "cell_type": "code",
   "execution_count": 9,
   "id": "66148fbb-9df3-4e5f-a687-b9d8ae545c6f",
   "metadata": {},
   "outputs": [
    {
     "data": {
      "text/plain": [
       "diameter       float64\n",
       "berat          float64\n",
       "tebal_kulit    float64\n",
       "kadar_gula     float64\n",
       "asal_daerah     object\n",
       "warna           object\n",
       "musim_panen     object\n",
       "kualitas        object\n",
       "dtype: object"
      ]
     },
     "execution_count": 9,
     "metadata": {},
     "output_type": "execute_result"
    }
   ],
   "source": [
    "df.dtypes"
   ]
  },
  {
   "cell_type": "code",
   "execution_count": 12,
   "id": "0598132f-6c2d-4f3c-82c5-4a3d8803274f",
   "metadata": {},
   "outputs": [
    {
     "data": {
      "text/plain": [
       "warna\n",
       "Kemerahan    31\n",
       "Jingga       27\n",
       "Kuning       23\n",
       "Hijau        19\n",
       "Name: count, dtype: int64"
      ]
     },
     "execution_count": 12,
     "metadata": {},
     "output_type": "execute_result"
    }
   ],
   "source": [
    "df[\"warna\"].value_counts()"
   ]
  },
  {
   "cell_type": "code",
   "execution_count": 13,
   "id": "b9dcfdf2-bb2d-457a-8504-763467832211",
   "metadata": {},
   "outputs": [
    {
     "data": {
      "text/html": [
       "<div>\n",
       "<style scoped>\n",
       "    .dataframe tbody tr th:only-of-type {\n",
       "        vertical-align: middle;\n",
       "    }\n",
       "\n",
       "    .dataframe tbody tr th {\n",
       "        vertical-align: top;\n",
       "    }\n",
       "\n",
       "    .dataframe thead th {\n",
       "        text-align: right;\n",
       "    }\n",
       "</style>\n",
       "<table border=\"1\" class=\"dataframe\">\n",
       "  <thead>\n",
       "    <tr style=\"text-align: right;\">\n",
       "      <th></th>\n",
       "      <th>diameter</th>\n",
       "      <th>berat</th>\n",
       "      <th>tebal_kulit</th>\n",
       "      <th>kadar_gula</th>\n",
       "      <th>asal_daerah</th>\n",
       "      <th>warna</th>\n",
       "      <th>musim_panen</th>\n",
       "      <th>kualitas</th>\n",
       "    </tr>\n",
       "  </thead>\n",
       "  <tbody>\n",
       "    <tr>\n",
       "      <th>0</th>\n",
       "      <td>7.0</td>\n",
       "      <td>175.5</td>\n",
       "      <td>0.40</td>\n",
       "      <td>10.6</td>\n",
       "      <td>Bali</td>\n",
       "      <td>Hijau</td>\n",
       "      <td>Hujan</td>\n",
       "      <td>Bagus</td>\n",
       "    </tr>\n",
       "    <tr>\n",
       "      <th>1</th>\n",
       "      <td>7.2</td>\n",
       "      <td>165.8</td>\n",
       "      <td>0.62</td>\n",
       "      <td>16.6</td>\n",
       "      <td>Bali</td>\n",
       "      <td>Jingga</td>\n",
       "      <td>Hujan</td>\n",
       "      <td>Sedang</td>\n",
       "    </tr>\n",
       "    <tr>\n",
       "      <th>2</th>\n",
       "      <td>9.0</td>\n",
       "      <td>222.3</td>\n",
       "      <td>0.69</td>\n",
       "      <td>9.5</td>\n",
       "      <td>Bali</td>\n",
       "      <td>Kemerahan</td>\n",
       "      <td>Hujan</td>\n",
       "      <td>Bagus</td>\n",
       "    </tr>\n",
       "    <tr>\n",
       "      <th>3</th>\n",
       "      <td>7.4</td>\n",
       "      <td>295.9</td>\n",
       "      <td>0.79</td>\n",
       "      <td>16.5</td>\n",
       "      <td>Jawa Tengah</td>\n",
       "      <td>Kemerahan</td>\n",
       "      <td>Hujan</td>\n",
       "      <td>Sedang</td>\n",
       "    </tr>\n",
       "    <tr>\n",
       "      <th>4</th>\n",
       "      <td>10.5</td>\n",
       "      <td>191.6</td>\n",
       "      <td>0.65</td>\n",
       "      <td>14.1</td>\n",
       "      <td>Jawa Tengah</td>\n",
       "      <td>Kemerahan</td>\n",
       "      <td>Kemarau</td>\n",
       "      <td>Bagus</td>\n",
       "    </tr>\n",
       "  </tbody>\n",
       "</table>\n",
       "</div>"
      ],
      "text/plain": [
       "   diameter  berat  tebal_kulit  kadar_gula  asal_daerah      warna  \\\n",
       "0       7.0  175.5         0.40        10.6         Bali      Hijau   \n",
       "1       7.2  165.8         0.62        16.6         Bali     Jingga   \n",
       "2       9.0  222.3         0.69         9.5         Bali  Kemerahan   \n",
       "3       7.4  295.9         0.79        16.5  Jawa Tengah  Kemerahan   \n",
       "4      10.5  191.6         0.65        14.1  Jawa Tengah  Kemerahan   \n",
       "\n",
       "  musim_panen kualitas  \n",
       "0       Hujan    Bagus  \n",
       "1       Hujan   Sedang  \n",
       "2       Hujan    Bagus  \n",
       "3       Hujan   Sedang  \n",
       "4     Kemarau    Bagus  "
      ]
     },
     "execution_count": 13,
     "metadata": {},
     "output_type": "execute_result"
    }
   ],
   "source": [
    "df.head()"
   ]
  },
  {
   "cell_type": "code",
   "execution_count": 14,
   "id": "07645342-d109-442c-af0b-01171098a9e2",
   "metadata": {},
   "outputs": [
    {
     "data": {
      "text/html": [
       "<div>\n",
       "<style scoped>\n",
       "    .dataframe tbody tr th:only-of-type {\n",
       "        vertical-align: middle;\n",
       "    }\n",
       "\n",
       "    .dataframe tbody tr th {\n",
       "        vertical-align: top;\n",
       "    }\n",
       "\n",
       "    .dataframe thead th {\n",
       "        text-align: right;\n",
       "    }\n",
       "</style>\n",
       "<table border=\"1\" class=\"dataframe\">\n",
       "  <thead>\n",
       "    <tr style=\"text-align: right;\">\n",
       "      <th></th>\n",
       "      <th>diameter</th>\n",
       "      <th>berat</th>\n",
       "      <th>tebal_kulit</th>\n",
       "      <th>kadar_gula</th>\n",
       "      <th>asal_daerah</th>\n",
       "      <th>warna</th>\n",
       "      <th>musim_panen</th>\n",
       "      <th>kualitas</th>\n",
       "    </tr>\n",
       "  </thead>\n",
       "  <tbody>\n",
       "    <tr>\n",
       "      <th>95</th>\n",
       "      <td>9.2</td>\n",
       "      <td>583.7</td>\n",
       "      <td>0.62</td>\n",
       "      <td>13.6</td>\n",
       "      <td>Jawa Barat</td>\n",
       "      <td>Hijau</td>\n",
       "      <td>Kemarau</td>\n",
       "      <td>Sedang</td>\n",
       "    </tr>\n",
       "    <tr>\n",
       "      <th>96</th>\n",
       "      <td>11.9</td>\n",
       "      <td>217.3</td>\n",
       "      <td>0.74</td>\n",
       "      <td>17.2</td>\n",
       "      <td>Jawa Tengah</td>\n",
       "      <td>Kemerahan</td>\n",
       "      <td>Hujan</td>\n",
       "      <td>Sedang</td>\n",
       "    </tr>\n",
       "    <tr>\n",
       "      <th>97</th>\n",
       "      <td>7.2</td>\n",
       "      <td>502.1</td>\n",
       "      <td>0.56</td>\n",
       "      <td>8.5</td>\n",
       "      <td>Bali</td>\n",
       "      <td>Jingga</td>\n",
       "      <td>Hujan</td>\n",
       "      <td>Jelek</td>\n",
       "    </tr>\n",
       "    <tr>\n",
       "      <th>98</th>\n",
       "      <td>8.2</td>\n",
       "      <td>288.7</td>\n",
       "      <td>0.52</td>\n",
       "      <td>14.8</td>\n",
       "      <td>Jawa Barat</td>\n",
       "      <td>Kuning</td>\n",
       "      <td>Hujan</td>\n",
       "      <td>Sedang</td>\n",
       "    </tr>\n",
       "    <tr>\n",
       "      <th>99</th>\n",
       "      <td>6.6</td>\n",
       "      <td>427.5</td>\n",
       "      <td>0.59</td>\n",
       "      <td>19.4</td>\n",
       "      <td>Jawa Barat</td>\n",
       "      <td>Jingga</td>\n",
       "      <td>Kemarau</td>\n",
       "      <td>Jelek</td>\n",
       "    </tr>\n",
       "  </tbody>\n",
       "</table>\n",
       "</div>"
      ],
      "text/plain": [
       "    diameter  berat  tebal_kulit  kadar_gula  asal_daerah      warna  \\\n",
       "95       9.2  583.7         0.62        13.6   Jawa Barat      Hijau   \n",
       "96      11.9  217.3         0.74        17.2  Jawa Tengah  Kemerahan   \n",
       "97       7.2  502.1         0.56         8.5         Bali     Jingga   \n",
       "98       8.2  288.7         0.52        14.8   Jawa Barat     Kuning   \n",
       "99       6.6  427.5         0.59        19.4   Jawa Barat     Jingga   \n",
       "\n",
       "   musim_panen kualitas  \n",
       "95     Kemarau   Sedang  \n",
       "96       Hujan   Sedang  \n",
       "97       Hujan    Jelek  \n",
       "98       Hujan   Sedang  \n",
       "99     Kemarau    Jelek  "
      ]
     },
     "execution_count": 14,
     "metadata": {},
     "output_type": "execute_result"
    }
   ],
   "source": [
    "df.tail()"
   ]
  },
  {
   "cell_type": "code",
   "execution_count": 30,
   "id": "c9a7b6d0-aa56-4482-83db-9e432dd43321",
   "metadata": {},
   "outputs": [
    {
     "data": {
      "image/png": "[encoded data removed]",
      "text/plain": [
       "<Figure size 600x500 with 1 Axes>"
      ]
     },
     "metadata": {},
     "output_type": "display_data"
    }
   ],
   "source": [
    "import matplotlib.pyplot as plt\n",
    "bagus=df[df[\"kualitas\"]==\"Bagus\"]\n",
    "sedang=df[df[\"kualitas\"]==\"Sedang\"]\n",
    "jelek=df[df[\"kualitas\"]==\"Jelek\"]\n",
    "\n",
    "plt.figure(figsize=(6,5))\n",
    "plt.scatter(bagus[\"diameter\"], bagus[\"berat\"], s=100, alpha=0.7, color=\"green\", label=\"bagus\")\n",
    "plt.scatter(sedang[\"diameter\"], sedang[\"berat\"], s=100, alpha=0.7, color=\"yellow\", label=\"sedang\")\n",
    "plt.scatter(jelek[\"diameter\"], jelek[\"berat\"], s=100, alpha=0.7, color=\"red\", label=\"jelek\")\n",
    "\n",
    "plt.Xlabel = (\"diameter\")\n",
    "plt.ylabel = (\"berat\")\n",
    "plt.title = (\"Diameter vs Berat\")\n",
    "plt.legend()\n",
    "plt.grid(True, linestyle=\"--\", alpha=0.3)\n",
    "plt.show()"
   ]
  },
  {
   "cell_type": "code",
   "execution_count": 33,
   "id": "0708d9a4-c298-4c24-b9d5-caaa22582036",
   "metadata": {},
   "outputs": [
    {
     "data": {
      "image/png": "[encoded data removed]",
      "text/plain": [
       "<Figure size 600x500 with 1 Axes>"
      ]
     },
     "metadata": {},
     "output_type": "display_data"
    }
   ],
   "source": [
    "import matplotlib.pyplot as plt\n",
    "bagus=df[df[\"kualitas\"]==\"Bagus\"]\n",
    "sedang=df[df[\"kualitas\"]==\"Sedang\"]\n",
    "jelek=df[df[\"kualitas\"]==\"Jelek\"]\n",
    "\n",
    "plt.figure(figsize=(6,5))\n",
    "plt.scatter(bagus[\"tebal_kulit\"], bagus[\"kadar_gula\"], s=100, alpha=0.7, color=\"green\", label=\"Besar\")\n",
    "plt.scatter(sedang[\"tebal_kulit\"], sedang[\"kadar_gula\"],  s=100, alpha=0.7, color=\"yellow\", label=\"Sedang\")\n",
    "plt.scatter(jelek[\"tebal_kulit\"], jelek[\"kadar_gula\"], s=100, alpha=0.7, color=\"red\", label=\"Jelek\")\n",
    "\n",
    "plt.Xlabel = (\"diameter\")\n",
    "plt.ylabel = (\"berat\")\n",
    "plt.title = (\"Diameter vs Berat\")\n",
    "plt.legend()\n",
    "plt.grid(True, linestyle=\"--\", alpha=0.3)\n",
    "plt.show()"
   ]
  },
  {
   "cell_type": "code",
   "execution_count": 50,
   "id": "d6b639c0-76d0-4284-a068-bd64f4580f1a",
   "metadata": {},
   "outputs": [
    {
     "name": "stdout",
     "output_type": "stream",
     "text": [
      "Accuracy : 0.35\n",
      "\n",
      "Classification Report :\n",
      "               precision    recall  f1-score   support\n",
      "\n",
      "       Bagus       0.40      0.57      0.47         7\n",
      "       Jelek       0.00      0.00      0.00         6\n",
      "      Sedang       0.38      0.43      0.40         7\n",
      "\n",
      "    accuracy                           0.35        20\n",
      "   macro avg       0.26      0.33      0.29        20\n",
      "weighted avg       0.27      0.35      0.30        20\n",
      "\n",
      "\n",
      "Confusion Matrix :\n",
      " [[4 0 3]\n",
      " [4 0 2]\n",
      " [2 2 3]]\n"
     ]
    }
   ],
   "source": [
    "from sklearn.linear_model import LogisticRegression\n",
    "from sklearn.model_selection import train_test_split\n",
    "from sklearn.preprocessing import StandardScaler, OneHotEncoder, OrdinalEncoder\n",
    "from sklearn.metrics import accuracy_score, classification_report, confusion_matrix\n",
    "from sklearn.pipeline import Pipeline\n",
    "from sklearn.compose import ColumnTransformer\n",
    "\n",
    "X = df[[\"diameter\", \"berat\", \"tebal_kulit\", \"kadar_gula\", \"asal_daerah\", \"warna\", \"musim_panen\"]]\n",
    "y = df[\"kualitas\"]\n",
    "X_train, X_test, y_train, y_test = train_test_split(X, y, test_size=0.2, random_state=42)\n",
    "\n",
    "numeric_columns = [\"diameter\", \"berat\", \"tebal_kulit\", \"kadar_gula\"]\n",
    "categorical_columns = [\"asal_daerah\", \"musim_panen\"]\n",
    "ordinal_columns = [\"warna\"]\n",
    "\n",
    "warna_order = [[\"hijau\", \"kuning\", \"jingga\", \"kemerahan\"]]\n",
    "\n",
    "preprocessing = ColumnTransformer(\n",
    "    transformers=[\n",
    "        (\"scaler\", StandardScaler(), numeric_columns),\n",
    "        (\"ohe\", OneHotEncoder(handle_unknown=\"ignore\"), categorical_columns),\n",
    "        (\"oe\", OrdinalEncoder(categories=warna_order), ordinal_columns)\n",
    "    ]\n",
    ")\n",
    "\n",
    "model = Pipeline(\n",
    "    steps=[\n",
    "        (\"preprocessing\", preprocessing),\n",
    "        (\"model\", LogisticRegression())\n",
    "    ]\n",
    ")\n",
    "\n",
    "model.fit(X_train, y_train)\n",
    "y_pred = model.predict(X_test)\n",
    "print(\"Accuracy :\", accuracy_score(y_test, y_pred))\n",
    "print(\"\\nClassification Report :\\n\", classification_report(y_test, y_pred))\n",
    "print(\"\\nConfusion Matrix :\\n\", confusion_matrix(y_test, y_pred))"
   ]
  },
  {
   "cell_type": "code",
   "execution_count": 51,
   "id": "f6d9444e-2b9c-42b3-b9c8-c028b26c3fac",
   "metadata": {},
   "outputs": [
    {
     "name": "stdout",
     "output_type": "stream",
     "text": [
      "\n",
      "Model memprediksi Sedang dengan tingkat keyakinan 50.84%\n"
     ]
    }
   ],
   "source": [
    "data_baru = pd.DataFrame([[\n",
    "    7.89, 100, 0.35, 10, \"Jawa Tengah\", \"hijau\", \"hujan\"\n",
    "]], columns=[\"diameter\", \"berat\", \"tebal_kulit\", \"kadar_gula\", \"asal_daerah\", \"warna\", \"musim_panen\"])\n",
    "\n",
    "prediksi1 = model.predict(data_baru)\n",
    "presentase = max(model.predict_proba(data_baru)[0])\n",
    "\n",
    "print(f\"\\nModel memprediksi {prediksi1[0]} dengan tingkat keyakinan {presentase*100:.2f}%\")"
   ]
  },
  {
   "cell_type": "code",
   "execution_count": 54,
   "id": "969b3a18-052c-4625-8aa9-928346533f52",
   "metadata": {},
   "outputs": [
    {
     "data": {
      "text/plain": [
       "['model_klasifikasi_mangga.joblib']"
      ]
     },
     "execution_count": 54,
     "metadata": {},
     "output_type": "execute_result"
    }
   ],
   "source": [
    "import joblib\n",
    "joblib.dump(model,\"model_klasifikasi_mangga.joblib\")"
   ]
  },
  {
   "cell_type": "code",
   "execution_count": null,
   "id": "ce35e3ca-a10d-4f91-91d5-f247bc54a904",
   "metadata": {},
   "outputs": [],
   "source": []
  }
 ],
 "metadata": {
  "kernelspec": {
   "display_name": "Python 3 (ipykernel)",
   "language": "python",
   "name": "python3"
  },
  "language_info": {
   "codemirror_mode": {
    "name": "ipython",
    "version": 3
   },
   "file_extension": ".py",
   "mimetype": "text/x-python",
   "name": "python",
   "nbconvert_exporter": "python",
   "pygments_lexer": "ipython3",
   "version": "3.13.5"
  }
 },
 "nbformat": 4,
 "nbformat_minor": 5
}
